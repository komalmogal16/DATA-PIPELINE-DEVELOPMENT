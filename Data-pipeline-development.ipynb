{
 "cells": [
  {
   "cell_type": "code",
   "execution_count": 1,
   "id": "eb33d2e1-8716-4334-bffd-b4d82895d727",
   "metadata": {},
   "outputs": [
    {
     "name": "stdout",
     "output_type": "stream",
     "text": [
      "ETL process completed. Processed data saved to processed_data.csv\n"
     ]
    }
   ],
   "source": [
    "import pandas as pd\n",
    "from sklearn.impute import SimpleImputer\n",
    "from sklearn.preprocessing import StandardScaler, OneHotEncoder\n",
    "from sklearn.compose import ColumnTransformer\n",
    "from sklearn.pipeline import Pipeline\n",
    "\n",
    "# Step 1: Extract - Load data from CSV\n",
    "def extract_data(file_path):\n",
    "    return pd.read_csv(file_path)\n",
    "\n",
    "# Step 2: Transform - Data Cleaning and Preprocessing\n",
    "def transform_data(df):\n",
    "    numeric_features = df.select_dtypes(include=['int64', 'float64']).columns\n",
    "    categorical_features = df.select_dtypes(include=['object']).columns\n",
    "    \n",
    "    # Numeric transformation - Handling missing values and scaling\n",
    "    numeric_transformer = Pipeline([\n",
    "        ('imputer', SimpleImputer(strategy='mean')),\n",
    "        ('scaler', StandardScaler())\n",
    "    ])\n",
    "    \n",
    "    # Categorical transformation - Handling missing values and encoding\n",
    "    categorical_transformer = Pipeline([\n",
    "        ('imputer', SimpleImputer(strategy='most_frequent')),\n",
    "        ('encoder', OneHotEncoder(handle_unknown='ignore'))\n",
    "    ])\n",
    "    \n",
    "    # Applying transformations\n",
    "    preprocessor = ColumnTransformer([\n",
    "        ('num', numeric_transformer, numeric_features),\n",
    "        ('cat', categorical_transformer, categorical_features)\n",
    "    ])\n",
    "    \n",
    "    transformed_data = preprocessor.fit_transform(df)\n",
    "    transformed_df = pd.DataFrame(transformed_data)\n",
    "    \n",
    "    return transformed_df\n",
    "\n",
    "# Step 3: Load - Save transformed data\n",
    "def load_data(df, output_file):\n",
    "    df.to_csv(output_file, index=False)\n",
    "\n",
    "if __name__ == \"__main__\":\n",
    "    input_file = \"Covid 19.csv\"  # Replace with your actual data file\n",
    "    output_file = \"processed_data.csv\"\n",
    "    \n",
    "    # Extract\n",
    "    raw_data = extract_data(input_file)\n",
    "    \n",
    "    # Transform\n",
    "    cleaned_data = transform_data(raw_data)\n",
    "    \n",
    "    # Load\n",
    "    load_data(cleaned_data, output_file)\n",
    "    \n",
    "    print(f\"ETL process completed. Processed data saved to {output_file}\")\n"
   ]
  },
  {
   "cell_type": "code",
   "execution_count": null,
   "id": "123cf196-c69c-495c-9d6f-591546b818b6",
   "metadata": {},
   "outputs": [],
   "source": []
  }
 ],
 "metadata": {
  "kernelspec": {
   "display_name": "Python 3 (ipykernel)",
   "language": "python",
   "name": "python3"
  },
  "language_info": {
   "codemirror_mode": {
    "name": "ipython",
    "version": 3
   },
   "file_extension": ".py",
   "mimetype": "text/x-python",
   "name": "python",
   "nbconvert_exporter": "python",
   "pygments_lexer": "ipython3",
   "version": "3.12.7"
  }
 },
 "nbformat": 4,
 "nbformat_minor": 5
}
